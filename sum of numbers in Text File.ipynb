{
 "cells": [
  {
   "cell_type": "code",
   "execution_count": 89,
   "metadata": {},
   "outputs": [
    {
     "name": "stdout",
     "output_type": "stream",
     "text": [
      "529404\n"
     ]
    }
   ],
   "source": [
    "import re\n",
    "\n",
    "hand = open(\"regex_sum_759910.txt\")\n",
    "x=list()\n",
    "for line in hand:\n",
    "     y = re.findall('[0-9]+',line)\n",
    "     x = x+y\n",
    "\n",
    "sum=0\n",
    "for z in x:\n",
    "    sum = sum + int(z)\n",
    "\n",
    "print(sum)"
   ]
  }
 ],
 "metadata": {
  "kernelspec": {
   "display_name": "Python 3",
   "language": "python",
   "name": "python3"
  },
  "language_info": {
   "codemirror_mode": {
    "name": "ipython",
    "version": 3
   },
   "file_extension": ".py",
   "mimetype": "text/x-python",
   "name": "python",
   "nbconvert_exporter": "python",
   "pygments_lexer": "ipython3",
   "version": "3.8.3"
  }
 },
 "nbformat": 4,
 "nbformat_minor": 4
}
